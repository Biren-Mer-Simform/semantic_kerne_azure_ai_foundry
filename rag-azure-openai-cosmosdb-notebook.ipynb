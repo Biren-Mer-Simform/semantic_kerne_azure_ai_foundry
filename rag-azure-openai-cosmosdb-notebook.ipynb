{
 "cells": [
  {
   "cell_type": "markdown",
   "metadata": {},
   "source": [
    "# 1. Install the Required libraries"
   ]
  },
  {
   "cell_type": "code",
   "execution_count": 1,
   "metadata": {},
   "outputs": [
    {
     "name": "stdout",
     "output_type": "stream",
     "text": [
      "Requirement already satisfied: semantic-kernel==1.18.0 in ./.venv/lib/python3.13/site-packages (1.18.0)\n",
      "Requirement already satisfied: aiohttp~=3.8 in ./.venv/lib/python3.13/site-packages (from semantic-kernel==1.18.0) (3.10.11)\n",
      "Requirement already satisfied: cloudevents~=1.0 in ./.venv/lib/python3.13/site-packages (from semantic-kernel==1.18.0) (1.11.0)\n",
      "Requirement already satisfied: pydantic!=2.10.0,!=2.10.1,!=2.10.2,!=2.10.3,<2.11,>=2.0 in ./.venv/lib/python3.13/site-packages (from semantic-kernel==1.18.0) (2.10.6)\n",
      "Requirement already satisfied: pydantic-settings~=2.0 in ./.venv/lib/python3.13/site-packages (from semantic-kernel==1.18.0) (2.2.1)\n",
      "Requirement already satisfied: defusedxml~=0.7 in ./.venv/lib/python3.13/site-packages (from semantic-kernel==1.18.0) (0.7.1)\n",
      "Requirement already satisfied: azure-identity~=1.13 in ./.venv/lib/python3.13/site-packages (from semantic-kernel==1.18.0) (1.19.0)\n",
      "Requirement already satisfied: numpy>=1.26.0 in ./.venv/lib/python3.13/site-packages (from semantic-kernel==1.18.0) (1.26.4)\n",
      "Requirement already satisfied: openai~=1.0 in ./.venv/lib/python3.13/site-packages (from semantic-kernel==1.18.0) (1.58.1)\n",
      "Requirement already satisfied: openapi_core<0.20,>=0.18 in ./.venv/lib/python3.13/site-packages (from semantic-kernel==1.18.0) (0.18.2)\n",
      "Requirement already satisfied: opentelemetry-api~=1.24 in ./.venv/lib/python3.13/site-packages (from semantic-kernel==1.18.0) (1.29.0)\n",
      "Requirement already satisfied: opentelemetry-sdk~=1.24 in ./.venv/lib/python3.13/site-packages (from semantic-kernel==1.18.0) (1.29.0)\n",
      "Requirement already satisfied: prance~=23.6.21.0 in ./.venv/lib/python3.13/site-packages (from semantic-kernel==1.18.0) (23.6.21.0)\n",
      "Requirement already satisfied: pybars4~=0.9 in ./.venv/lib/python3.13/site-packages (from semantic-kernel==1.18.0) (0.9.13)\n",
      "Requirement already satisfied: jinja2~=3.1 in ./.venv/lib/python3.13/site-packages (from semantic-kernel==1.18.0) (3.1.5)\n",
      "Requirement already satisfied: nest-asyncio~=1.6 in ./.venv/lib/python3.13/site-packages (from semantic-kernel==1.18.0) (1.6.0)\n",
      "Requirement already satisfied: aiohappyeyeballs>=2.3.0 in ./.venv/lib/python3.13/site-packages (from aiohttp~=3.8->semantic-kernel==1.18.0) (2.4.4)\n",
      "Requirement already satisfied: aiosignal>=1.1.2 in ./.venv/lib/python3.13/site-packages (from aiohttp~=3.8->semantic-kernel==1.18.0) (1.3.1)\n",
      "Requirement already satisfied: attrs>=17.3.0 in ./.venv/lib/python3.13/site-packages (from aiohttp~=3.8->semantic-kernel==1.18.0) (23.2.0)\n",
      "Requirement already satisfied: frozenlist>=1.1.1 in ./.venv/lib/python3.13/site-packages (from aiohttp~=3.8->semantic-kernel==1.18.0) (1.4.1)\n",
      "Requirement already satisfied: multidict<7.0,>=4.5 in ./.venv/lib/python3.13/site-packages (from aiohttp~=3.8->semantic-kernel==1.18.0) (6.0.5)\n",
      "Requirement already satisfied: yarl<2.0,>=1.12.0 in ./.venv/lib/python3.13/site-packages (from aiohttp~=3.8->semantic-kernel==1.18.0) (1.18.3)\n",
      "Requirement already satisfied: azure-core>=1.31.0 in ./.venv/lib/python3.13/site-packages (from azure-identity~=1.13->semantic-kernel==1.18.0) (1.32.0)\n",
      "Requirement already satisfied: cryptography>=2.5 in ./.venv/lib/python3.13/site-packages (from azure-identity~=1.13->semantic-kernel==1.18.0) (44.0.0)\n",
      "Requirement already satisfied: msal>=1.30.0 in ./.venv/lib/python3.13/site-packages (from azure-identity~=1.13->semantic-kernel==1.18.0) (1.31.1)\n",
      "Requirement already satisfied: msal-extensions>=1.2.0 in ./.venv/lib/python3.13/site-packages (from azure-identity~=1.13->semantic-kernel==1.18.0) (1.2.0)\n",
      "Requirement already satisfied: typing-extensions>=4.0.0 in ./.venv/lib/python3.13/site-packages (from azure-identity~=1.13->semantic-kernel==1.18.0) (4.12.2)\n",
      "Requirement already satisfied: deprecation<3.0,>=2.0 in ./.venv/lib/python3.13/site-packages (from cloudevents~=1.0->semantic-kernel==1.18.0) (2.1.0)\n",
      "Requirement already satisfied: packaging in ./.venv/lib/python3.13/site-packages (from deprecation<3.0,>=2.0->cloudevents~=1.0->semantic-kernel==1.18.0) (24.0)\n",
      "Requirement already satisfied: MarkupSafe>=2.0 in ./.venv/lib/python3.13/site-packages (from jinja2~=3.1->semantic-kernel==1.18.0) (2.1.5)\n",
      "Requirement already satisfied: anyio<5,>=3.5.0 in ./.venv/lib/python3.13/site-packages (from openai~=1.0->semantic-kernel==1.18.0) (4.3.0)\n",
      "Requirement already satisfied: distro<2,>=1.7.0 in ./.venv/lib/python3.13/site-packages (from openai~=1.0->semantic-kernel==1.18.0) (1.9.0)\n",
      "Requirement already satisfied: httpx<1,>=0.23.0 in ./.venv/lib/python3.13/site-packages (from openai~=1.0->semantic-kernel==1.18.0) (0.27.0)\n",
      "Requirement already satisfied: jiter<1,>=0.4.0 in ./.venv/lib/python3.13/site-packages (from openai~=1.0->semantic-kernel==1.18.0) (0.8.2)\n",
      "Requirement already satisfied: sniffio in ./.venv/lib/python3.13/site-packages (from openai~=1.0->semantic-kernel==1.18.0) (1.3.1)\n",
      "Requirement already satisfied: tqdm>4 in ./.venv/lib/python3.13/site-packages (from openai~=1.0->semantic-kernel==1.18.0) (4.66.3)\n",
      "Requirement already satisfied: idna>=2.8 in ./.venv/lib/python3.13/site-packages (from anyio<5,>=3.5.0->openai~=1.0->semantic-kernel==1.18.0) (3.7)\n",
      "Requirement already satisfied: certifi in ./.venv/lib/python3.13/site-packages (from httpx<1,>=0.23.0->openai~=1.0->semantic-kernel==1.18.0) (2024.7.4)\n",
      "Requirement already satisfied: httpcore==1.* in ./.venv/lib/python3.13/site-packages (from httpx<1,>=0.23.0->openai~=1.0->semantic-kernel==1.18.0) (1.0.5)\n",
      "Requirement already satisfied: h11<0.15,>=0.13 in ./.venv/lib/python3.13/site-packages (from httpcore==1.*->httpx<1,>=0.23.0->openai~=1.0->semantic-kernel==1.18.0) (0.14.0)\n",
      "Requirement already satisfied: asgiref<4.0.0,>=3.6.0 in ./.venv/lib/python3.13/site-packages (from openapi_core<0.20,>=0.18->semantic-kernel==1.18.0) (3.8.1)\n",
      "Requirement already satisfied: isodate in ./.venv/lib/python3.13/site-packages (from openapi_core<0.20,>=0.18->semantic-kernel==1.18.0) (0.6.1)\n",
      "Requirement already satisfied: jsonschema<5.0.0,>=4.18.0 in ./.venv/lib/python3.13/site-packages (from openapi_core<0.20,>=0.18->semantic-kernel==1.18.0) (4.21.1)\n",
      "Requirement already satisfied: jsonschema-spec<0.3.0,>=0.2.3 in ./.venv/lib/python3.13/site-packages (from openapi_core<0.20,>=0.18->semantic-kernel==1.18.0) (0.2.4)\n",
      "Requirement already satisfied: more-itertools in ./.venv/lib/python3.13/site-packages (from openapi_core<0.20,>=0.18->semantic-kernel==1.18.0) (10.2.0)\n",
      "Requirement already satisfied: openapi-schema-validator<0.7.0,>=0.6.0 in ./.venv/lib/python3.13/site-packages (from openapi_core<0.20,>=0.18->semantic-kernel==1.18.0) (0.6.2)\n",
      "Requirement already satisfied: openapi-spec-validator<0.8.0,>=0.7.1 in ./.venv/lib/python3.13/site-packages (from openapi_core<0.20,>=0.18->semantic-kernel==1.18.0) (0.7.1)\n",
      "Requirement already satisfied: parse in ./.venv/lib/python3.13/site-packages (from openapi_core<0.20,>=0.18->semantic-kernel==1.18.0) (1.20.1)\n",
      "Requirement already satisfied: werkzeug in ./.venv/lib/python3.13/site-packages (from openapi_core<0.20,>=0.18->semantic-kernel==1.18.0) (3.0.6)\n",
      "Requirement already satisfied: jsonschema-specifications>=2023.03.6 in ./.venv/lib/python3.13/site-packages (from jsonschema<5.0.0,>=4.18.0->openapi_core<0.20,>=0.18->semantic-kernel==1.18.0) (2023.7.1)\n",
      "Requirement already satisfied: referencing>=0.28.4 in ./.venv/lib/python3.13/site-packages (from jsonschema<5.0.0,>=4.18.0->openapi_core<0.20,>=0.18->semantic-kernel==1.18.0) (0.30.2)\n",
      "Requirement already satisfied: rpds-py>=0.7.1 in ./.venv/lib/python3.13/site-packages (from jsonschema<5.0.0,>=4.18.0->openapi_core<0.20,>=0.18->semantic-kernel==1.18.0) (0.18.0)\n",
      "Requirement already satisfied: PyYAML>=5.1 in ./.venv/lib/python3.13/site-packages (from jsonschema-spec<0.3.0,>=0.2.3->openapi_core<0.20,>=0.18->semantic-kernel==1.18.0) (6.0.1)\n",
      "Requirement already satisfied: pathable<0.5.0,>=0.4.1 in ./.venv/lib/python3.13/site-packages (from jsonschema-spec<0.3.0,>=0.2.3->openapi_core<0.20,>=0.18->semantic-kernel==1.18.0) (0.4.3)\n",
      "Requirement already satisfied: requests<3.0.0,>=2.31.0 in ./.venv/lib/python3.13/site-packages (from jsonschema-spec<0.3.0,>=0.2.3->openapi_core<0.20,>=0.18->semantic-kernel==1.18.0) (2.32.2)\n",
      "Requirement already satisfied: rfc3339-validator in ./.venv/lib/python3.13/site-packages (from openapi-schema-validator<0.7.0,>=0.6.0->openapi_core<0.20,>=0.18->semantic-kernel==1.18.0) (0.1.4)\n",
      "Requirement already satisfied: jsonschema-path<0.4.0,>=0.3.1 in ./.venv/lib/python3.13/site-packages (from openapi-spec-validator<0.8.0,>=0.7.1->openapi_core<0.20,>=0.18->semantic-kernel==1.18.0) (0.3.2)\n",
      "Requirement already satisfied: lazy-object-proxy<2.0.0,>=1.7.1 in ./.venv/lib/python3.13/site-packages (from openapi-spec-validator<0.8.0,>=0.7.1->openapi_core<0.20,>=0.18->semantic-kernel==1.18.0) (1.10.0)\n",
      "Requirement already satisfied: deprecated>=1.2.6 in ./.venv/lib/python3.13/site-packages (from opentelemetry-api~=1.24->semantic-kernel==1.18.0) (1.2.15)\n",
      "Requirement already satisfied: importlib-metadata<=8.5.0,>=6.0 in ./.venv/lib/python3.13/site-packages (from opentelemetry-api~=1.24->semantic-kernel==1.18.0) (8.5.0)\n",
      "Requirement already satisfied: zipp>=3.20 in ./.venv/lib/python3.13/site-packages (from importlib-metadata<=8.5.0,>=6.0->opentelemetry-api~=1.24->semantic-kernel==1.18.0) (3.21.0)\n",
      "Requirement already satisfied: opentelemetry-semantic-conventions==0.50b0 in ./.venv/lib/python3.13/site-packages (from opentelemetry-sdk~=1.24->semantic-kernel==1.18.0) (0.50b0)\n",
      "Requirement already satisfied: chardet>=3.0 in ./.venv/lib/python3.13/site-packages (from prance~=23.6.21.0->semantic-kernel==1.18.0) (5.2.0)\n",
      "Requirement already satisfied: ruamel.yaml>=0.17.10 in ./.venv/lib/python3.13/site-packages (from prance~=23.6.21.0->semantic-kernel==1.18.0) (0.18.15)\n",
      "Requirement already satisfied: six~=1.15 in ./.venv/lib/python3.13/site-packages (from prance~=23.6.21.0->semantic-kernel==1.18.0) (1.16.0)\n",
      "Requirement already satisfied: PyMeta3>=0.5.1 in ./.venv/lib/python3.13/site-packages (from pybars4~=0.9->semantic-kernel==1.18.0) (0.5.1)\n",
      "Requirement already satisfied: annotated-types>=0.6.0 in ./.venv/lib/python3.13/site-packages (from pydantic!=2.10.0,!=2.10.1,!=2.10.2,!=2.10.3,<2.11,>=2.0->semantic-kernel==1.18.0) (0.6.0)\n",
      "Requirement already satisfied: pydantic-core==2.27.2 in ./.venv/lib/python3.13/site-packages (from pydantic!=2.10.0,!=2.10.1,!=2.10.2,!=2.10.3,<2.11,>=2.0->semantic-kernel==1.18.0) (2.27.2)\n",
      "Requirement already satisfied: python-dotenv>=0.21.0 in ./.venv/lib/python3.13/site-packages (from pydantic-settings~=2.0->semantic-kernel==1.18.0) (1.0.1)\n",
      "Requirement already satisfied: charset-normalizer<4,>=2 in ./.venv/lib/python3.13/site-packages (from requests<3.0.0,>=2.31.0->jsonschema-spec<0.3.0,>=0.2.3->openapi_core<0.20,>=0.18->semantic-kernel==1.18.0) (3.3.2)\n",
      "Requirement already satisfied: urllib3<3,>=1.21.1 in ./.venv/lib/python3.13/site-packages (from requests<3.0.0,>=2.31.0->jsonschema-spec<0.3.0,>=0.2.3->openapi_core<0.20,>=0.18->semantic-kernel==1.18.0) (2.2.2)\n",
      "Requirement already satisfied: propcache>=0.2.0 in ./.venv/lib/python3.13/site-packages (from yarl<2.0,>=1.12.0->aiohttp~=3.8->semantic-kernel==1.18.0) (0.2.1)\n",
      "Requirement already satisfied: cffi>=1.12 in ./.venv/lib/python3.13/site-packages (from cryptography>=2.5->azure-identity~=1.13->semantic-kernel==1.18.0) (1.17.1)\n",
      "Requirement already satisfied: pycparser in ./.venv/lib/python3.13/site-packages (from cffi>=1.12->cryptography>=2.5->azure-identity~=1.13->semantic-kernel==1.18.0) (2.22)\n",
      "Requirement already satisfied: wrapt<2,>=1.10 in ./.venv/lib/python3.13/site-packages (from deprecated>=1.2.6->opentelemetry-api~=1.24->semantic-kernel==1.18.0) (1.17.0)\n",
      "Requirement already satisfied: PyJWT<3,>=1.0.0 in ./.venv/lib/python3.13/site-packages (from PyJWT[crypto]<3,>=1.0.0->msal>=1.30.0->azure-identity~=1.13->semantic-kernel==1.18.0) (2.10.1)\n",
      "Requirement already satisfied: portalocker<3,>=1.4 in ./.venv/lib/python3.13/site-packages (from msal-extensions>=1.2.0->azure-identity~=1.13->semantic-kernel==1.18.0) (2.10.1)\n",
      "Requirement already satisfied: ruamel.yaml.clib>=0.2.7 in ./.venv/lib/python3.13/site-packages (from ruamel.yaml>=0.17.10->prance~=23.6.21.0->semantic-kernel==1.18.0) (0.2.12)\n",
      "Note: you may need to restart the kernel to use updated packages.\n",
      "Requirement already satisfied: openai==1.58.1 in ./.venv/lib/python3.13/site-packages (1.58.1)\n",
      "Requirement already satisfied: anyio<5,>=3.5.0 in ./.venv/lib/python3.13/site-packages (from openai==1.58.1) (4.3.0)\n",
      "Requirement already satisfied: distro<2,>=1.7.0 in ./.venv/lib/python3.13/site-packages (from openai==1.58.1) (1.9.0)\n",
      "Requirement already satisfied: httpx<1,>=0.23.0 in ./.venv/lib/python3.13/site-packages (from openai==1.58.1) (0.27.0)\n",
      "Requirement already satisfied: jiter<1,>=0.4.0 in ./.venv/lib/python3.13/site-packages (from openai==1.58.1) (0.8.2)\n",
      "Requirement already satisfied: pydantic<3,>=1.9.0 in ./.venv/lib/python3.13/site-packages (from openai==1.58.1) (2.10.6)\n",
      "Requirement already satisfied: sniffio in ./.venv/lib/python3.13/site-packages (from openai==1.58.1) (1.3.1)\n",
      "Requirement already satisfied: tqdm>4 in ./.venv/lib/python3.13/site-packages (from openai==1.58.1) (4.66.3)\n",
      "Requirement already satisfied: typing-extensions<5,>=4.11 in ./.venv/lib/python3.13/site-packages (from openai==1.58.1) (4.12.2)\n",
      "Requirement already satisfied: idna>=2.8 in ./.venv/lib/python3.13/site-packages (from anyio<5,>=3.5.0->openai==1.58.1) (3.7)\n",
      "Requirement already satisfied: certifi in ./.venv/lib/python3.13/site-packages (from httpx<1,>=0.23.0->openai==1.58.1) (2024.7.4)\n",
      "Requirement already satisfied: httpcore==1.* in ./.venv/lib/python3.13/site-packages (from httpx<1,>=0.23.0->openai==1.58.1) (1.0.5)\n",
      "Requirement already satisfied: h11<0.15,>=0.13 in ./.venv/lib/python3.13/site-packages (from httpcore==1.*->httpx<1,>=0.23.0->openai==1.58.1) (0.14.0)\n",
      "Requirement already satisfied: annotated-types>=0.6.0 in ./.venv/lib/python3.13/site-packages (from pydantic<3,>=1.9.0->openai==1.58.1) (0.6.0)\n",
      "Requirement already satisfied: pydantic-core==2.27.2 in ./.venv/lib/python3.13/site-packages (from pydantic<3,>=1.9.0->openai==1.58.1) (2.27.2)\n",
      "Note: you may need to restart the kernel to use updated packages.\n",
      "Requirement already satisfied: pymongo in ./.venv/lib/python3.13/site-packages (4.9.2)\n",
      "Requirement already satisfied: dnspython<3.0.0,>=1.16.0 in ./.venv/lib/python3.13/site-packages (from pymongo) (2.7.0)\n",
      "Note: you may need to restart the kernel to use updated packages.\n"
     ]
    }
   ],
   "source": [
    "%pip install semantic-kernel==1.18.0\n",
    "%pip install openai==1.58.1\n",
    "%pip install pymongo"
   ]
  },
  {
   "cell_type": "markdown",
   "metadata": {},
   "source": [
    "# 2. Create your environment variables .env file"
   ]
  },
  {
   "cell_type": "markdown",
   "metadata": {},
   "source": [
    "Add your environment variables then run the cell to create the *.env* file with your environment variable."
   ]
  },
  {
   "cell_type": "code",
   "execution_count": 1,
   "metadata": {},
   "outputs": [],
   "source": [
    "# Create .env file if it doesn't exist\n",
    "%cp -n .env.example .env"
   ]
  },
  {
   "cell_type": "markdown",
   "metadata": {},
   "source": [
    "# 3. Load the environment variables"
   ]
  },
  {
   "cell_type": "code",
   "execution_count": 1,
   "metadata": {},
   "outputs": [
    {
     "data": {
      "text/plain": [
       "True"
      ]
     },
     "execution_count": 1,
     "metadata": {},
     "output_type": "execute_result"
    }
   ],
   "source": [
    "# load the environment variables file\n",
    "import os\n",
    "\n",
    "from dotenv import load_dotenv\n",
    "\n",
    "load_dotenv(\".env\", override=True)"
   ]
  },
  {
   "cell_type": "markdown",
   "metadata": {},
   "source": [
    "Some of the parameters needed by [Azure Cosmos DB for MongoDB vCore](https://learn.microsoft.com/azure/cosmos-db/mongodb/vcore/vector-search) to create the vector search index are handled by semantic kernel.\n",
    "\n",
    "In this guide, we are using `text-embedding-ada-002` embedding model to generate the embeddings which uses a 1536-dimensional embedding vector.\n",
    "\n",
    "The `num_lists` is an integer that represents of clusters that the inverted file (IVF) index uses to group the vector data.\n",
    "\n",
    "The `similarity` used with IVF index here is the `COS` (cosine distance) but you can also try `L2` (Euclidean distance), and `IP` (inner product). For more information see the [Understand embeddings in Azure OpenAI Service article](https://learn.microsoft.com/azure/ai-services/openai/concepts/understand-embeddings#cosine-similarity)."
   ]
  },
  {
   "cell_type": "code",
   "execution_count": 2,
   "metadata": {},
   "outputs": [],
   "source": [
    "from urllib.parse import quote_plus\n",
    "\n",
    "\n",
    "# Read and Store Environment variables\n",
    "def get_mongo_connection_string():\n",
    "    mongo_connection_string = os.getenv(\"AZURE_COSMOS_CONNECTION_STRING\", \"<YOUR-COSMOS-DB-CONNECTION-STRING>\")\n",
    "    mongo_username = quote_plus(os.getenv(\"AZURE_COSMOS_USERNAME\"))\n",
    "    mongo_password = quote_plus(os.getenv(\"AZURE_COSMOS_PASSWORD\"))\n",
    "    return mongo_connection_string.replace(\"<user>\", mongo_username).replace(\"<password>\", mongo_password)"
   ]
  },
  {
   "cell_type": "code",
   "execution_count": 3,
   "metadata": {},
   "outputs": [],
   "source": [
    "from semantic_kernel.connectors.memory.azure_cosmosdb.utils import (\n",
    "    CosmosDBSimilarityType,\n",
    "    CosmosDBVectorSearchType,\n",
    ")\n",
    "\n",
    "# collection name will be used multiple times in the code so we store it in a variable\n",
    "mongo_connection_string = get_mongo_connection_string()\n",
    "database_name = os.getenv(\"AZURE_COSMOS_DATABASE_NAME\")\n",
    "collection_name = os.getenv(\"AZURE_COSMOS_COLLECTION_NAME\")\n",
    "\n",
    "# Vector search index parameters\n",
    "index_name = os.getenv(\"AZURE_COSMOS_INDEX_NAME\", \"VectorSearchIndex\")\n",
    "vector_dimensions = 1536  # text-embedding-ada-002 uses a 1536-dimensional embedding vector\n",
    "num_lists = 100\n",
    "similarity = CosmosDBSimilarityType.COS\n",
    "kind = CosmosDBVectorSearchType.VECTOR_IVF\n",
    "m = 16\n",
    "ef_construction = 64\n",
    "ef_search = 40"
   ]
  },
  {
   "cell_type": "markdown",
   "metadata": {},
   "source": [
    "# 4. Create Helper Functions"
   ]
  },
  {
   "cell_type": "markdown",
   "metadata": {},
   "source": [
    "This function takes in a json file of NoSQL records and checks if your data exists in the database using the id of the record then skips the record if it exists or generates embeddings and uploads the database record along with it's embedding.\n",
    "\n",
    "The `save_information` function does two things: generate embeddings + upload the data to your database.\n",
    "\n",
    "Learn more about the semantic kernel memory store [here](https://learn.microsoft.com/semantic-kernel/memories/) and the embeddings [here](https://learn.microsoft.com/semantic-kernel/memories/embeddings)."
   ]
  },
  {
   "cell_type": "code",
   "execution_count": 4,
   "metadata": {},
   "outputs": [],
   "source": [
    "import json\n",
    "\n",
    "from semantic_kernel.memory.memory_store_base import MemoryStoreBase\n",
    "from semantic_kernel.memory.semantic_text_memory import SemanticTextMemory\n",
    "\n",
    "\n",
    "async def upsert_data_to_memory_store(memory: SemanticTextMemory, store: MemoryStoreBase, data_file_path: str) -> None:\n",
    "    \"\"\"\n",
    "    This asynchronous function takes two memory stores and a data file path as arguments.\n",
    "    It is designed to upsert (update or insert) data into the memory stores from the data file.\n",
    "\n",
    "    Args:\n",
    "        memory (callable): A callable object that represents the semantic kernel memory.\n",
    "        store (callable): A callable object that represents the memory store where data will be upserted.\n",
    "        data_file_path (str): The path to the data file that contains the data to be upserted.\n",
    "\n",
    "    Returns:\n",
    "        None. The function performs an operation that modifies the memory stores in-place.\n",
    "    \"\"\"\n",
    "    with open(file=data_file_path, encoding=\"utf-8\") as f:\n",
    "        data = json.load(f)\n",
    "        n = 0\n",
    "        for item in data:\n",
    "            n += 1\n",
    "            # check if the item already exists in the memory store\n",
    "            # if the id doesn't exist, it throws an exception\n",
    "            try:\n",
    "                already_created = bool(await store.get(collection_name, item[\"id\"], with_embedding=True))\n",
    "            except Exception:\n",
    "                already_created = False\n",
    "            # if the record doesn't exist, we generate embeddings and save it to the database\n",
    "            if not already_created:\n",
    "                await memory.save_information(\n",
    "                    collection=collection_name,\n",
    "                    id=item[\"id\"],\n",
    "                    # the embedding is generated from the text field\n",
    "                    text=item[\"content\"],\n",
    "                    description=item[\"title\"],\n",
    "                )\n",
    "                print(\n",
    "                    \"Generating embeddings and saving new item:\",\n",
    "                    n,\n",
    "                    \"/\",\n",
    "                    len(data),\n",
    "                    end=\"\\r\",\n",
    "                )\n",
    "            else:\n",
    "                print(\"Skipping item already exits:\", n, \"/\", len(data), end=\"\\r\")"
   ]
  },
  {
   "cell_type": "markdown",
   "metadata": {},
   "source": [
    "# 5. Add the Chat and Embedding models to the Semantic Kernel"
   ]
  },
  {
   "cell_type": "markdown",
   "metadata": {},
   "source": [
    "Import the semantic kernel, and initialize the semantic kernel."
   ]
  },
  {
   "cell_type": "code",
   "execution_count": 5,
   "metadata": {},
   "outputs": [],
   "source": [
    "from semantic_kernel import Kernel\n",
    "\n",
    "# Initialize the kernel\n",
    "kernel = Kernel()"
   ]
  },
  {
   "cell_type": "markdown",
   "metadata": {},
   "source": [
    "Import the needed libraries.\n",
    "\n",
    "We need the chat completion for having a conversation and text embeddings for generating embeddings."
   ]
  },
  {
   "cell_type": "code",
   "execution_count": null,
   "metadata": {},
   "outputs": [],
   "source": [
    "from semantic_kernel.connectors.ai.open_ai import (\n",
    "    AzureChatCompletion,\n",
    "    AzureTextEmbedding,\n",
    ")"
   ]
  },
  {
   "cell_type": "markdown",
   "metadata": {},
   "source": [
    "Load the chat deployment name, initialize the chat completions with the required parameters, and add the created chat service to the semantic kernel instance."
   ]
  },
  {
   "cell_type": "code",
   "execution_count": null,
   "metadata": {},
   "outputs": [
    {
     "name": "stdout",
     "output_type": "stream",
     "text": [
      "Added Azure OpenAI Chat Service...\n"
     ]
    }
   ],
   "source": [
    "# adding azure openai chat service\n",
    "chat_model_deployment_name = os.getenv(\"AZURE_OPENAI_CHAT_DEPLOYMENT_NAME\")\n",
    "endpoint = os.getenv(\"AZURE_OPENAI_ENDPOINT\")\n",
    "api_key = os.getenv(\"AZURE_OPENAI_API_KEY\")\n",
    "\n",
    "kernel.add_service(\n",
    "    AzureChatCompletion(\n",
    "        service_id=\"chat_completion\",\n",
    "        deployment_name=\"gpt-4.1-mini\",\n",
    "        endpoint=\"https://chatbot-exp.cognitiveservices.azure.com/\",\n",
    "        api_key=os.environ[\"AZURE_OPENAI_API_KEY\"],\n",
    "    )\n",
    ")\n",
    "print(\"Added Azure OpenAI Chat Service...\")"
   ]
  },
  {
   "cell_type": "markdown",
   "metadata": {},
   "source": [
    "Load the embeddings deployment name and initialize the text embedding with the required parameters, and add the created embedding service to the semantic kernel instance."
   ]
  },
  {
   "cell_type": "code",
   "execution_count": 8,
   "metadata": {},
   "outputs": [
    {
     "name": "stdout",
     "output_type": "stream",
     "text": [
      "Added Azure OpenAI Embedding Generation Service...\n"
     ]
    }
   ],
   "source": [
    "# adding azure openai text embedding service\n",
    "embedding_model_deployment_name = os.getenv(\"AZURE_OPENAI_EMBEDDINGS_DEPLOYMENT_NAME\")\n",
    "\n",
    "kernel.add_service(\n",
    "    AzureTextEmbedding(\n",
    "        service_id=\"text_embedding\",\n",
    "        endpoint=\"https://chatbot-exp.cognitiveservices.azure.com/\",\n",
    "        deployment_name=\"text-embedding-3-small\",\n",
    "        api_key=os.environ['AZURE_OPENAI_API_KEY']\n",
    "    )\n",
    ")\n",
    "\n",
    "print(\"Added Azure OpenAI Embedding Generation Service...\")"
   ]
  },
  {
   "cell_type": "markdown",
   "metadata": {},
   "source": [
    "# 6. Create or Update Azure Cosmos DB for MongoDB"
   ]
  },
  {
   "cell_type": "markdown",
   "metadata": {},
   "source": [
    "The semantic kernel can handel the database, collection, index creation.\n",
    "\n",
    "Import the Azure CosmosDB memory store and initialize it with the parameters defined before.\n",
    "\n",
    "If the database, collection, and index exist it won't overwrite it."
   ]
  },
  {
   "cell_type": "code",
   "execution_count": 9,
   "metadata": {},
   "outputs": [
    {
     "name": "stdout",
     "output_type": "stream",
     "text": [
      "Creating or updating Azure Cosmos DB Memory Store...\n"
     ]
    },
    {
     "name": "stderr",
     "output_type": "stream",
     "text": [
      "/home/biren/workspace/git_sf/rag-semantic-kernel-mongodb-vcore/.venv/lib/python3.13/site-packages/semantic_kernel/connectors/memory/azure_cosmosdb/azure_cosmos_db_memory_store.py:102: UserWarning: You appear to be connected to a CosmosDB cluster. For more information regarding feature compatibility and support please visit https://www.mongodb.com/supportability/cosmosdb\n",
      "  mongodb_client = MongoClient(\n"
     ]
    },
    {
     "name": "stdout",
     "output_type": "stream",
     "text": [
      "Finished updating Azure Cosmos DB Memory Store...\n"
     ]
    }
   ],
   "source": [
    "from semantic_kernel.connectors.memory.azure_cosmosdb import (\n",
    "    AzureCosmosDBMemoryStore,\n",
    ")\n",
    "\n",
    "print(\"Creating or updating Azure Cosmos DB Memory Store...\")\n",
    "# create azure cosmos db for mongo db vcore api store and collection with vector ivf\n",
    "# currently, semantic kernel only supports the ivf vector kind\n",
    "store = await AzureCosmosDBMemoryStore.create(\n",
    "    cosmos_connstr=mongo_connection_string,\n",
    "    cosmos_api=\"mongo-vcore\",\n",
    "    database_name=database_name,\n",
    "    collection_name=collection_name,\n",
    "    index_name=index_name,\n",
    "    vector_dimensions=vector_dimensions,\n",
    "    num_lists=num_lists,\n",
    "    similarity=similarity,\n",
    "    kind=kind,\n",
    "    m=m,\n",
    "    ef_construction=ef_construction,\n",
    "    ef_search=ef_search,\n",
    ")\n",
    "\n",
    "\n",
    "print(\"Finished updating Azure Cosmos DB Memory Store...\")"
   ]
  },
  {
   "cell_type": "markdown",
   "metadata": {},
   "source": [
    "Add the created memory store to the semantic kernel instance."
   ]
  },
  {
   "cell_type": "code",
   "execution_count": 10,
   "metadata": {},
   "outputs": [
    {
     "name": "stdout",
     "output_type": "stream",
     "text": [
      "Registered Azure Cosmos DB Memory Store...\n"
     ]
    }
   ],
   "source": [
    "from semantic_kernel.core_plugins.text_memory_plugin import TextMemoryPlugin\n",
    "from semantic_kernel.memory.semantic_text_memory import SemanticTextMemory\n",
    "\n",
    "memory = SemanticTextMemory(storage=store, embeddings_generator=kernel.get_service(\"text_embedding\"))\n",
    "kernel.add_plugin(TextMemoryPlugin(memory), \"TextMemoryPluginACDB\")\n",
    "print(\"Registered Azure Cosmos DB Memory Store...\")"
   ]
  },
  {
   "cell_type": "markdown",
   "metadata": {},
   "source": [
    "# 7. Generate embeddings and Create Database records"
   ]
  },
  {
   "cell_type": "markdown",
   "metadata": {},
   "source": [
    "Call the helper function with the JSON data file to generate embeddings and create or update the database records.\n",
    "\n",
    "If the records already exit it will skip it.\n",
    "\n",
    "Records are identified by their ids.\n",
    "\n",
    "The data used here is a dummy data which you can replace with your own.\n",
    "\n",
    "**Note that you need to specify id, text, and description fields.\n",
    "The text field is what gets converted to embeddings.**\n",
    "\n",
    "See the helper function definition for more information."
   ]
  },
  {
   "cell_type": "code",
   "execution_count": 11,
   "metadata": {},
   "outputs": [],
   "source": [
    "# from openai import OpenAI\n",
    "\n",
    "# endpoint = \"https://chatbot-exp.cognitiveservices.azure.com/openai/v1/\"\n",
    "# deployment_name = \"text-embedding-3-small\"\n",
    "# api_key = os.environ['AZURE_OPENAI_API_KEY']\n",
    "\n",
    "# client = OpenAI(\n",
    "#     base_url = endpoint,\n",
    "#     api_key = api_key,\n",
    "# )\n",
    "\n",
    "# response = client.embeddings.create(\n",
    "#     input = \"How do I use Python in VS Code?\",\n",
    "#     model = deployment_name\n",
    "# )\n",
    "# print(response.data[0].embedding)"
   ]
  },
  {
   "cell_type": "code",
   "execution_count": 12,
   "metadata": {},
   "outputs": [
    {
     "name": "stdout",
     "output_type": "stream",
     "text": [
      "Upserting data to Azure Cosmos DB Memory Store...\n",
      "Generating embeddings and saving new item: 344 / 344\r"
     ]
    }
   ],
   "source": [
    "# cleaned-top-movies-chunked.json contains the top 344 movie from the IMDB movies dataset\n",
    "# You can also try the text-sample.json which contains 107 Azure Service.\n",
    "# Replace the file name cleaned-top-movies-chunked.json with text-sample.json\n",
    "\n",
    "print(\"Upserting data to Azure Cosmos DB Memory Store...\")\n",
    "await upsert_data_to_memory_store(memory, store, \"./src/data/cleaned-top-movies-chunked.json\")"
   ]
  },
  {
   "cell_type": "markdown",
   "metadata": {},
   "source": [
    "# 8. Test the Vector Database"
   ]
  },
  {
   "cell_type": "markdown",
   "metadata": {},
   "source": [
    "The search function converts the query_term to a vector embedding and finds the similarity between it and the database records."
   ]
  },
  {
   "cell_type": "code",
   "execution_count": null,
   "metadata": {},
   "outputs": [],
   "source": [
    "# each time it calls the embedding model to generate embeddings from your query\n",
    "query_term = \"What do you know about the godfather?\"\n",
    "result = await memory.search(collection_name, query_term)"
   ]
  },
  {
   "cell_type": "code",
   "execution_count": 13,
   "metadata": {},
   "outputs": [
    {
     "name": "stdout",
     "output_type": "stream",
     "text": [
      "Result is: The Godfather: The aging patriarch of an organized crime dynasty transfers control of his clandestine empire to his reluctant son.\n",
      "Relevance Score: 0.6341985304119\n",
      "Full Record: {\"text\": \"The Godfather: The aging patriarch of an organized crime dynasty transfers control of his clandestine empire to his reluctant son.\", \"description\": \"The Godfather\", \"additional_metadata\": null}\n"
     ]
    }
   ],
   "source": [
    "print(\n",
    "    f\"Result is: {result[0].text}\\nRelevance Score: {result[0].relevance}\\nFull Record: {result[0].additional_metadata}\"\n",
    ")"
   ]
  },
  {
   "cell_type": "markdown",
   "metadata": {},
   "source": [
    "# 9. Create chat function with Azure OpenAI chat model"
   ]
  },
  {
   "cell_type": "code",
   "execution_count": 14,
   "metadata": {},
   "outputs": [],
   "source": [
    "prompt = \"\"\"\n",
    "    You are a chatbot that can have a conversations about any topic related to the provided context.\n",
    "    Give explicit answers from the provided context or say 'I don't know' if it does not have an answer.\n",
    "    provided context: {{$db_record}}\n",
    "\n",
    "    User: {{$query_term}}\n",
    "    Chatbot:\"\"\""
   ]
  },
  {
   "cell_type": "code",
   "execution_count": 15,
   "metadata": {},
   "outputs": [],
   "source": [
    "from semantic_kernel.connectors.ai.open_ai import OpenAITextPromptExecutionSettings\n",
    "\n",
    "execution_settings = OpenAITextPromptExecutionSettings(\n",
    "    service_id=\"chat_completion\", ai_model_id=chat_model_deployment_name, max_tokens=500, temperature=0.0, top_p=0.5\n",
    ")"
   ]
  },
  {
   "cell_type": "code",
   "execution_count": 16,
   "metadata": {},
   "outputs": [],
   "source": [
    "from semantic_kernel.prompt_template import PromptTemplateConfig\n",
    "from semantic_kernel.prompt_template.input_variable import InputVariable\n",
    "\n",
    "chat_prompt_template_config = PromptTemplateConfig(\n",
    "    template=prompt,\n",
    "    name=\"grounded_response\",\n",
    "    template_format=\"semantic-kernel\",\n",
    "    input_variables=[\n",
    "        InputVariable(name=\"db_record\", description=\"The database record\", is_required=True),\n",
    "        InputVariable(name=\"query_term\", description=\"The user input\", is_required=True),\n",
    "    ],\n",
    "    execution_settings=execution_settings,\n",
    ")"
   ]
  },
  {
   "cell_type": "code",
   "execution_count": 17,
   "metadata": {},
   "outputs": [],
   "source": [
    "chat_function = kernel.add_function(\n",
    "    function_name=\"ChatGPTFunc\", plugin_name=\"chatGPTPlugin\", prompt_template_config=chat_prompt_template_config\n",
    ")"
   ]
  },
  {
   "cell_type": "code",
   "execution_count": 18,
   "metadata": {},
   "outputs": [],
   "source": [
    "from semantic_kernel.functions import KernelArguments\n",
    "\n",
    "completions_result = await kernel.invoke(\n",
    "    chat_function, KernelArguments(query_term=query_term, db_record=result[0].additional_metadata)\n",
    ")"
   ]
  },
  {
   "cell_type": "code",
   "execution_count": 19,
   "metadata": {},
   "outputs": [
    {
     "name": "stdout",
     "output_type": "stream",
     "text": [
      "The Godfather is about the aging patriarch of an organized crime dynasty who transfers control of his clandestine empire to his reluctant son.\n"
     ]
    }
   ],
   "source": [
    "print(completions_result)"
   ]
  },
  {
   "cell_type": "markdown",
   "metadata": {},
   "source": [
    "# 10. Testing the RAG flow "
   ]
  },
  {
   "cell_type": "code",
   "execution_count": 20,
   "metadata": {},
   "outputs": [
    {
     "name": "stdout",
     "output_type": "stream",
     "text": [
      "Question:\n",
      "hi\n",
      "Response:\n",
      "Hello! How can I help you today? Would you like to talk about \"I Hate You,\" the story of Chi and Kelly and their long-term relationship journey?\n",
      "\n",
      "Question:\n",
      "Sure like talk about it \n",
      "Response:\n",
      "\"Party Talk\" is about four creative and sexually confused high school seniors who are dealing with their sense of isolation while attending a booze-soaked party in New York City. Would you like to discuss the themes, characters, or something else about it?\n",
      "\n",
      "Question:\n",
      "let's change the topic \n",
      "Response:\n",
      "Sure! What topic would you like to talk about?\n",
      "\n",
      "Question:\n",
      "provide me a list of available topics and we can decide what to do\n",
      "Response:\n",
      "Based on the provided context, the available topic is:\n",
      "\n",
      "- \"Airport for Birds,\" a production from the group that created \"A Very Potter Musical,\" featuring an evening of \"great\" ideas and other bits that were cut from previous works.\n",
      "\n",
      "We can discuss the show itself, its connection to \"A Very Potter Musical,\" or the group behind it. Let me know what you'd like to explore!\n",
      "\n",
      "Question:\n",
      "what is A Very Potter Musical \n",
      "Response:\n",
      "I don't know.\n",
      "\n"
     ]
    }
   ],
   "source": [
    "import time\n",
    "\n",
    "query_term = \"\"\n",
    "search_result = \"\"\n",
    "completions_result = \"\"\n",
    "\n",
    "while query_term != \"exit\":\n",
    "    query_term = input(\"Enter a query: \")\n",
    "    if query_term == \"exit\":\n",
    "        break\n",
    "    search_result = await memory.search(collection_name, query_term)\n",
    "    completions_result = kernel.invoke_stream(\n",
    "        chat_function, KernelArguments(query_term=query_term, db_record=search_result[0].additional_metadata)\n",
    "    )\n",
    "    print(f\"Question:\\n{query_term}\\nResponse:\")\n",
    "    async for completion in completions_result:\n",
    "        print(str(completion[0]), end=\"\")\n",
    "    print(\"\\n\")\n",
    "    time.sleep(5)"
   ]
  },
  {
   "cell_type": "markdown",
   "metadata": {},
   "source": [
    "# **[Optional]** Adding Chat History"
   ]
  },
  {
   "cell_type": "markdown",
   "metadata": {},
   "source": [
    "This chat history is local (i.e. in your computer's RAM) and not persisted anywhere beyond the life of this Jupyter session.\n",
    "In this chat scenario, as the user talks back and forth with the bot, the chat context gets populated with the history of the conversation. During each new run of the kernel, the kernel arguments and chat history can provide the AI with its variables' content."
   ]
  },
  {
   "cell_type": "code",
   "execution_count": 23,
   "metadata": {},
   "outputs": [],
   "source": [
    "history_prompt = \"\"\"\n",
    "    You are a chatbot that can have a conversations about any topic related to the provided context.\n",
    "    Give explicit answers from the provided context or say 'I don't know' if it does not have an answer.\n",
    "    provided context: {{$db_record}}\n",
    "\n",
    "    {{$history}}\n",
    "    \n",
    "    User: {{$query_term}}\n",
    "    Chatbot:\"\"\""
   ]
  },
  {
   "cell_type": "code",
   "execution_count": 24,
   "metadata": {},
   "outputs": [],
   "source": [
    "chat_prompt_hist_template_config = PromptTemplateConfig(\n",
    "    template=history_prompt,\n",
    "    name=\"grounded_response_history\",\n",
    "    template_format=\"semantic-kernel\",\n",
    "    input_variables=[\n",
    "        InputVariable(name=\"db_record\", description=\"The database record\", is_required=True),\n",
    "        InputVariable(name=\"query_term\", description=\"The user input\", is_required=True),\n",
    "        InputVariable(name=\"history\", description=\"The chat histroy\", is_required=True),\n",
    "    ],\n",
    "    execution_settings=execution_settings,\n",
    ")\n",
    "\n",
    "chat_history_function = kernel.add_function(\n",
    "    function_name=\"ChatGPTFuncHist\",\n",
    "    plugin_name=\"chatGPTPluginHist\",\n",
    "    prompt_template_config=chat_prompt_hist_template_config,\n",
    ")"
   ]
  },
  {
   "cell_type": "code",
   "execution_count": 25,
   "metadata": {},
   "outputs": [],
   "source": [
    "from semantic_kernel.contents import ChatHistory\n",
    "\n",
    "chat_history = ChatHistory()\n",
    "chat_history.add_system_message(\"You are a helpful chatbot who is good about giving movie recommendations.\")"
   ]
  },
  {
   "cell_type": "code",
   "execution_count": 26,
   "metadata": {},
   "outputs": [
    {
     "name": "stdout",
     "output_type": "stream",
     "text": [
      "Question:\n",
      "Hey\n",
      "Response:\n",
      "Hello! How can I assist you today?\n",
      "\n",
      "Question:\n",
      "Do you know any comedy movies?\n",
      "Response:\n",
      "Yes, I can recommend some comedy movies for you. Here are a few popular ones:\n",
      "\n",
      "1. \"Anchorman: The Legend of Ron Burgundy\" - A hilarious comedy about a 1970s news anchor and his eccentric news team.\n",
      "2. \"Superbad\" - A coming-of-age comedy about two high school friends who embark on a wild night of partying before graduation.\n",
      "3. \"Bridesmaids\" - A comedy about the lead-up to a wedding, filled with hilarious mishaps and memorable characters.\n",
      "4. \"The Hangover\" - A comedy about a group of friends who wake up after a wild bachelor party in Las Vegas, trying to piece together what happened.\n",
      "5. \"Step Brothers\" - A comedy about two middle-aged men who become stepbrothers and wreak havoc on their parents' lives.\n",
      "\n",
      "I hope you find these recommendations enjoyable! Let me know if you need more suggestions.\n",
      "\n",
      "Question:\n",
      "can you tell me more about the first movie?\n",
      "Response:\n",
      "Certainly! \"Anchorman: The Legend of Ron Burgundy\" is a comedy film released in 2004. It is set in the 1970s and follows the story of Ron Burgundy, a charismatic and egotistical news anchor in San Diego. Ron is the top-rated newsman in the city, but his world is turned upside down when a talented and ambitious female reporter named Veronica Corningstone joins the news team.\n",
      "\n",
      "The movie showcases Ron's hilarious attempts to maintain his dominance in the news industry while dealing with the challenges of working alongside Veronica. It features a talented ensemble cast including Will Ferrell as Ron Burgundy, Christina Applegate as Veronica Corningstone, and Steve Carell, Paul Rudd, and David Koechner as Ron's eccentric news team.\n",
      "\n",
      "\"Anchorman: The Legend of Ron Burgundy\" is known for its absurd humor, quotable lines, and memorable characters. It has become a cult classic and is beloved by fans of comedy films. If you enjoy witty and offbeat humor, this movie is definitely worth a watch!\n",
      "\n"
     ]
    }
   ],
   "source": [
    "import time\n",
    "\n",
    "query_term = \"\"\n",
    "search_result = \"\"\n",
    "completions_result = \"\"\n",
    "\n",
    "while query_term != \"exit\":\n",
    "    query_term = input(\"Enter a query: \")\n",
    "    if query_term == \"exit\":\n",
    "        break\n",
    "    chat_history.add_user_message(query_term)\n",
    "\n",
    "    search_result = await memory.search(collection_name, query_term)  # vector search\n",
    "\n",
    "    completions_result = await kernel.invoke(\n",
    "        chat_history_function,\n",
    "        KernelArguments(query_term=query_term, db_record=search_result[0].additional_metadata, history=chat_history),\n",
    "    )  # RAG\n",
    "    chat_history.add_assistant_message(str(completions_result))\n",
    "\n",
    "    print(f\"Question:\\n{query_term}\\nResponse:\")\n",
    "    print(str(completions_result), end=\"\")\n",
    "    print(\"\\n\")\n",
    "    time.sleep(5)"
   ]
  },
  {
   "cell_type": "markdown",
   "metadata": {},
   "source": [
    "After chatting for a while, we have built a growing history, which we are attaching to each prompt and which contains the full conversation. Let's take a look!"
   ]
  },
  {
   "cell_type": "code",
   "execution_count": 27,
   "metadata": {},
   "outputs": [
    {
     "name": "stdout",
     "output_type": "stream",
     "text": [
      "<chat_history><message role=\"system\"><text>You are a helpful chatbot who is good about giving movie recommendations.</text></message><message role=\"user\"><text>Hey</text></message><message role=\"assistant\"><text>Hello! How can I assist you today?</text></message><message role=\"user\"><text>Do you know any comedy movies?</text></message><message role=\"assistant\"><text>Yes, I can recommend some comedy movies for you. Here are a few popular ones:\n",
      "\n",
      "1. \"Anchorman: The Legend of Ron Burgundy\" - A hilarious comedy about a 1970s news anchor and his eccentric news team.\n",
      "2. \"Superbad\" - A coming-of-age comedy about two high school friends who embark on a wild night of partying before graduation.\n",
      "3. \"Bridesmaids\" - A comedy about the lead-up to a wedding, filled with hilarious mishaps and memorable characters.\n",
      "4. \"The Hangover\" - A comedy about a group of friends who wake up after a wild bachelor party in Las Vegas, trying to piece together what happened.\n",
      "5. \"Step Brothers\" - A comedy about two middle-aged men who become stepbrothers and wreak havoc on their parents' lives.\n",
      "\n",
      "I hope you find these recommendations enjoyable! Let me know if you need more suggestions.</text></message><message role=\"user\"><text>can you tell me more about the first movie?</text></message><message role=\"assistant\"><text>Certainly! \"Anchorman: The Legend of Ron Burgundy\" is a comedy film released in 2004. It is set in the 1970s and follows the story of Ron Burgundy, a charismatic and egotistical news anchor in San Diego. Ron is the top-rated newsman in the city, but his world is turned upside down when a talented and ambitious female reporter named Veronica Corningstone joins the news team.\n",
      "\n",
      "The movie showcases Ron's hilarious attempts to maintain his dominance in the news industry while dealing with the challenges of working alongside Veronica. It features a talented ensemble cast including Will Ferrell as Ron Burgundy, Christina Applegate as Veronica Corningstone, and Steve Carell, Paul Rudd, and David Koechner as Ron's eccentric news team.\n",
      "\n",
      "\"Anchorman: The Legend of Ron Burgundy\" is known for its absurd humor, quotable lines, and memorable characters. It has become a cult classic and is beloved by fans of comedy films. If you enjoy witty and offbeat humor, this movie is definitely worth a watch!</text></message></chat_history>\n"
     ]
    }
   ],
   "source": [
    "print(chat_history)"
   ]
  }
 ],
 "metadata": {
  "kernelspec": {
   "display_name": ".venv",
   "language": "python",
   "name": "python3"
  },
  "language_info": {
   "codemirror_mode": {
    "name": "ipython",
    "version": 3
   },
   "file_extension": ".py",
   "mimetype": "text/x-python",
   "name": "python",
   "nbconvert_exporter": "python",
   "pygments_lexer": "ipython3",
   "version": "3.13.5"
  }
 },
 "nbformat": 4,
 "nbformat_minor": 2
}
